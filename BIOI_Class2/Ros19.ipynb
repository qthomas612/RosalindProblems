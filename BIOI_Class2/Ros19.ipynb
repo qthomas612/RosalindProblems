{
 "cells": [
  {
   "cell_type": "code",
   "execution_count": 41,
   "metadata": {},
   "outputs": [
    {
     "name": "stdout",
     "output_type": "stream",
     "text": [
      "[['0.206', '0.333', '0.461'], ['0.472', '0.231', '0.297']]\n",
      "['0.297', '0.297', '0.472', '0.231', '0.472', '0.231', '0.206', '0.333', '0.333', '0.472', '0.231', '0.333', '0.297', '0.297', '0.333', '0.206', '0.461', '0.206', '0.206', '0.206', '0.461', '0.206', '0.461', '0.461', '0.472', '0.472', '0.206', '0.472', '0.333', '0.231', '0.472', '0.206', '0.297', '0.333', '0.333', '0.231', '0.461', '0.206', '0.472', '0.231', '0.472', '0.231', '0.231', '0.206', '0.297', '0.297', '0.297', '0.206', '0.206', '0.472']\n",
      "1.487264891054043e-26\n"
     ]
    }
   ],
   "source": [
    "#Ros19.py\n",
    "#quinn thomas\n",
    "#Rosalind 19\n",
    "import os\n",
    "import math\n",
    "import numpy\n",
    "\n",
    "#identify the directory you are working in\n",
    "mydir = \"/Users/QuinnThomas/Desktop/BIOI_500/\"\n",
    "#save input file to variable and read by lines\n",
    "infile = open(mydir + \"rosalind_ba10b.txt\", 'r').readlines()\n",
    "#create output file\n",
    "outfile = open(mydir + 'Ros19.txt', 'w')\n",
    "\n",
    "#separate all the variables from input\n",
    "string = infile[0]\n",
    "sigma = infile[2].strip().split()\n",
    "pi = infile[4]\n",
    "states = infile[6].strip().split()\n",
    "\n",
    "\n",
    "#print(string)\n",
    "#print(sigma)\n",
    "#print(pi)\n",
    "#print(states)\n",
    "\n",
    "emission_values = []\n",
    "#formatting emission values matrix\n",
    "for line in infile[9:]:\n",
    "    line = line.strip().split()\n",
    "    #print(line)\n",
    "    emission_values.append(line[1:])\n",
    "print(emission_values)\n",
    "\n",
    "\n",
    "#      x       y       z\n",
    "#A   0.612   0.314   0.074 \n",
    "#B   0.346   0.317   0.336\n",
    "\n",
    "# xxyzyxzzxzxyxyyzxxzzxxyyxxyxyzzxxyzyzxzxxyxyyzxxzx\n",
    "# BBBAAABABABBBBBBAAAAAABAAAABABABBBBBABAABABABABBBB\n",
    "\n",
    "numbers = []\n",
    "#for each value in string and pi\n",
    "for i in range(len(pi)-1):\n",
    "    #look at the values at lovation i in string and pi\n",
    "    column = string[i]\n",
    "    row = pi[i]\n",
    "    #pull indexes from sigma and states\n",
    "    col_idx= sigma.index(column)\n",
    "    row_idx= states.index(row)\n",
    "    #use indexes to pull associated emission value\n",
    "    numbers.append(emission_values[row_idx][col_idx])\n",
    "print(numbers)\n",
    "\n",
    "\n",
    "product=1\n",
    "#for each balue in our list of probabilites\n",
    "for item in numbers:\n",
    "    #multiply them\n",
    "    product*=float(item)\n",
    "    \n",
    "print(product)\n",
    "\n",
    "outfile.write(str(product))\n",
    "outfile.close()\n"
   ]
  },
  {
   "cell_type": "code",
   "execution_count": null,
   "metadata": {},
   "outputs": [],
   "source": []
  }
 ],
 "metadata": {
  "kernelspec": {
   "display_name": "Python 3",
   "language": "python",
   "name": "python3"
  },
  "language_info": {
   "codemirror_mode": {
    "name": "ipython",
    "version": 3
   },
   "file_extension": ".py",
   "mimetype": "text/x-python",
   "name": "python",
   "nbconvert_exporter": "python",
   "pygments_lexer": "ipython3",
   "version": "3.8.5"
  }
 },
 "nbformat": 4,
 "nbformat_minor": 4
}
